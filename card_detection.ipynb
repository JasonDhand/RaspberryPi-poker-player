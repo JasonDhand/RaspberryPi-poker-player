{
 "cells": [
  {
   "cell_type": "code",
   "execution_count": null,
   "metadata": {},
   "outputs": [],
   "source": []
  },
  {
   "cell_type": "code",
   "execution_count": 13,
   "metadata": {},
   "outputs": [],
   "source": [
    "\n",
    "import tensorflow as tf\n",
    "from keras import layers, models\n",
    "import numpy as np\n",
    "from tensorflow.keras.preprocessing import image\n",
    "import matplotlib.pyplot as plt\n",
    "\n",
    "# Path to your dataset\n",
    "\n",
    "training_dataset_path = \"cards_dataset\\\\train\"\n",
    "validation_dataset_path = \"cards_dataset\\\\valid\"\n"
   ]
  },
  {
   "cell_type": "code",
   "execution_count": null,
   "metadata": {},
   "outputs": [],
   "source": [
    "# gpus = tf.config.list_physical_devices('GPU')\n",
    "# if gpus:\n",
    "#     # GPU(s) available, print information about each GPU\n",
    "#     for gpu in gpus:\n",
    "#         print(\"Name:\", gpu.name)\n",
    "#         print(\"Device type:\", gpu.device_type)\n",
    "# else:\n",
    "#     print(\"No GPU(s) detected.\")"
   ]
  },
  {
   "cell_type": "code",
   "execution_count": 14,
   "metadata": {},
   "outputs": [
    {
     "name": "stdout",
     "output_type": "stream",
     "text": [
      "Found 7624 files belonging to 53 classes.\n",
      "Found 265 files belonging to 53 classes.\n"
     ]
    }
   ],
   "source": [
    "batch_size = 32\n",
    "img_height = 224\n",
    "img_width = 224\n",
    "num_classes = 53  # Number of classes in your dataset\n",
    "\n",
    "# Load training dataset with integer-encoded labels\n",
    "train_ds = tf.keras.preprocessing.image_dataset_from_directory(\n",
    "    training_dataset_path,\n",
    "    image_size=(img_height, img_width),\n",
    "    batch_size=batch_size,\n",
    "    label_mode='int'  # Use integer-encoded labels\n",
    ")\n",
    "\n",
    "# Load validation dataset with integer-encoded labels\n",
    "val_ds = tf.keras.preprocessing.image_dataset_from_directory(\n",
    "    validation_dataset_path,\n",
    "    image_size=(img_height, img_width),\n",
    "    batch_size=batch_size,\n",
    "    label_mode='int'  # Use integer-encoded labels\n",
    ")\n",
    "\n",
    "model = tf.keras.Sequential([\n",
    "    tf.keras.layers.Conv2D(input_shape=(224, 224, 3), kernel_size=(5, 5), strides=(1, 1), padding='same', activation='relu', filters=4),\n",
    "    tf.keras.layers.MaxPooling2D(pool_size=(2, 2), strides=(2, 2)),\n",
    "    tf.keras.layers.Conv2D(filters=8, kernel_size=(3, 3), strides=(1, 1), padding='valid', activation='relu'),\n",
    "    tf.keras.layers.MaxPooling2D(pool_size=(2, 2), strides=(2, 2)),\n",
    "    tf.keras.layers.Flatten(),\n",
    "    tf.keras.layers.Dense(128),\n",
    "    tf.keras.layers.BatchNormalization(),  # Add batch normalization layer\n",
    "    tf.keras.layers.Activation('relu'),    # Add activation after batch normalization\n",
    "    tf.keras.layers.Dropout(0.5),          # Add dropout layer with dropout rate of 0.5\n",
    "    tf.keras.layers.Dense(64),\n",
    "    tf.keras.layers.BatchNormalization(),  # Add batch normalization layer\n",
    "    tf.keras.layers.Activation('relu'),    # Add activation after batch normalization\n",
    "    tf.keras.layers.Dropout(0.5),          # Add dropout layer with dropout rate of 0.5\n",
    "    tf.keras.layers.Dense(53, activation='softmax')  # 53 output neurons for the 53 different playing cards\n",
    "])\n",
    "\n",
    "\n",
    "\n"
   ]
  },
  {
   "cell_type": "code",
   "execution_count": 15,
   "metadata": {},
   "outputs": [],
   "source": [
    "num_epochs = 10\n",
    "\n",
    "\n",
    "model.compile(optimizer='adam',\n",
    "              loss='sparse_categorical_crossentropy',  # Use sparse categorical crossentropy loss\n",
    "              metrics=['accuracy'])\n",
    "\n",
    "\n"
   ]
  },
  {
   "cell_type": "code",
   "execution_count": 16,
   "metadata": {},
   "outputs": [
    {
     "name": "stdout",
     "output_type": "stream",
     "text": [
      "Epoch 1/10\n"
     ]
    },
    {
     "name": "stdout",
     "output_type": "stream",
     "text": [
      "239/239 [==============================] - 53s 217ms/step - loss: 3.8446 - accuracy: 0.0682 - val_loss: 2.8723 - val_accuracy: 0.2755\n",
      "Epoch 2/10\n",
      "239/239 [==============================] - 55s 230ms/step - loss: 3.1273 - accuracy: 0.1874 - val_loss: 2.3392 - val_accuracy: 0.4226\n",
      "Epoch 3/10\n",
      "239/239 [==============================] - 54s 228ms/step - loss: 2.6818 - accuracy: 0.2753 - val_loss: 1.8563 - val_accuracy: 0.5208\n",
      "Epoch 4/10\n",
      "239/239 [==============================] - 54s 227ms/step - loss: 2.3274 - accuracy: 0.3482 - val_loss: 1.5781 - val_accuracy: 0.5774\n",
      "Epoch 5/10\n",
      "239/239 [==============================] - 55s 230ms/step - loss: 2.0587 - accuracy: 0.4112 - val_loss: 1.3862 - val_accuracy: 0.6302\n",
      "Epoch 6/10\n",
      "239/239 [==============================] - 55s 229ms/step - loss: 1.8272 - accuracy: 0.4656 - val_loss: 1.2390 - val_accuracy: 0.6679\n",
      "Epoch 7/10\n",
      "239/239 [==============================] - 54s 224ms/step - loss: 1.6329 - accuracy: 0.5248 - val_loss: 1.1786 - val_accuracy: 0.6943\n",
      "Epoch 8/10\n",
      "239/239 [==============================] - 55s 228ms/step - loss: 1.4490 - accuracy: 0.5729 - val_loss: 1.0796 - val_accuracy: 0.7132\n",
      "Epoch 9/10\n",
      "239/239 [==============================] - 56s 232ms/step - loss: 1.3464 - accuracy: 0.6003 - val_loss: 1.0430 - val_accuracy: 0.7019\n",
      "Epoch 10/10\n",
      "239/239 [==============================] - 57s 238ms/step - loss: 1.2039 - accuracy: 0.6409 - val_loss: 1.0307 - val_accuracy: 0.7057\n"
     ]
    }
   ],
   "source": [
    "\n",
    "\n",
    "# Train the model\n",
    "history = model.fit(\n",
    "    train_ds,\n",
    "    validation_data=val_ds,\n",
    "    epochs=num_epochs\n",
    ")"
   ]
  },
  {
   "cell_type": "code",
   "execution_count": 17,
   "metadata": {},
   "outputs": [
    {
     "name": "stdout",
     "output_type": "stream",
     "text": [
      "Epoch 1/10\n"
     ]
    },
    {
     "name": "stdout",
     "output_type": "stream",
     "text": [
      "239/239 [==============================] - 55s 231ms/step - loss: 1.1172 - accuracy: 0.6602 - val_loss: 0.9824 - val_accuracy: 0.7358\n",
      "Epoch 2/10\n",
      "239/239 [==============================] - 94s 393ms/step - loss: 1.0297 - accuracy: 0.6869 - val_loss: 0.9710 - val_accuracy: 0.7283\n",
      "Epoch 3/10\n",
      "239/239 [==============================] - 61s 255ms/step - loss: 0.9567 - accuracy: 0.7087 - val_loss: 0.9384 - val_accuracy: 0.7283\n",
      "Epoch 4/10\n",
      "239/239 [==============================] - 62s 261ms/step - loss: 0.9388 - accuracy: 0.7103 - val_loss: 0.9423 - val_accuracy: 0.7396\n",
      "Epoch 5/10\n",
      "239/239 [==============================] - 63s 262ms/step - loss: 0.8798 - accuracy: 0.7286 - val_loss: 0.8981 - val_accuracy: 0.7245\n",
      "Epoch 6/10\n",
      "239/239 [==============================] - 62s 257ms/step - loss: 0.8349 - accuracy: 0.7428 - val_loss: 0.9135 - val_accuracy: 0.7358\n",
      "Epoch 7/10\n",
      "239/239 [==============================] - 62s 261ms/step - loss: 0.7820 - accuracy: 0.7609 - val_loss: 0.9331 - val_accuracy: 0.7434\n",
      "Epoch 8/10\n",
      "239/239 [==============================] - 65s 272ms/step - loss: 0.7439 - accuracy: 0.7705 - val_loss: 0.9208 - val_accuracy: 0.7396\n",
      "Epoch 9/10\n",
      "239/239 [==============================] - 64s 268ms/step - loss: 0.7368 - accuracy: 0.7710 - val_loss: 0.9327 - val_accuracy: 0.7245\n",
      "Epoch 10/10\n",
      "239/239 [==============================] - 64s 266ms/step - loss: 0.6921 - accuracy: 0.7859 - val_loss: 0.9327 - val_accuracy: 0.7321\n"
     ]
    }
   ],
   "source": [
    "additional_epochs = 10\n",
    "\n",
    "additional_history = model.fit(\n",
    "    train_ds,\n",
    "    validation_data=val_ds,\n",
    "    epochs=additional_epochs\n",
    ")\n",
    "\n",
    "model.save_weights('your_model_weights.h5')"
   ]
  },
  {
   "cell_type": "code",
   "execution_count": 18,
   "metadata": {},
   "outputs": [
    {
     "name": "stderr",
     "output_type": "stream",
     "text": [
      "WARNING:absl:Found untraced functions such as _jit_compiled_convolution_op, _jit_compiled_convolution_op while saving (showing 2 of 2). These functions will not be directly callable after loading.\n"
     ]
    },
    {
     "name": "stdout",
     "output_type": "stream",
     "text": [
      "INFO:tensorflow:Assets written to: my_model\\assets\n"
     ]
    },
    {
     "name": "stderr",
     "output_type": "stream",
     "text": [
      "INFO:tensorflow:Assets written to: my_model\\assets\n"
     ]
    }
   ],
   "source": [
    "# Save the model\n",
    "model.save('my_model')\n",
    "\n",
    "# Load the saved model\n",
    "loaded_model = tf.keras.models.load_model('my_model')\n",
    "\n"
   ]
  },
  {
   "cell_type": "code",
   "execution_count": 40,
   "metadata": {},
   "outputs": [],
   "source": [
    "# # Load testing dataset\n",
    "# testing_dataset_path = \"cards_dataset\\\\test\"\n",
    "# test_ds = tf.keras.preprocessing.image_dataset_from_directory(\n",
    "#     testing_dataset_path,\n",
    "#     image_size=(img_height, img_width),\n",
    "#     batch_size=batch_size,\n",
    "#     label_mode='int'  # Assuming integer-encoded labels for testing dataset\n",
    "# )\n",
    "\n",
    "# # Evaluate the model on the testing dataset\n",
    "# test_loss, test_accuracy = model.evaluate(test_ds)\n",
    "\n",
    "# print(f'Test accuracy: {test_accuracy}')\n",
    "\n",
    "\n",
    "# Load testing dataset\n",
    "testing_dataset_path = \"cards_dataset\\\\test\"\n",
    "test_ds = tf.keras.preprocessing.image_dataset_from_directory(\n",
    "    testing_dataset_path,\n",
    "    image_size=(img_height, img_width),\n",
    "    batch_size=batch_size,\n",
    "    label_mode='int',  # Assuming integer-encoded labels for testing dataset\n",
    "    shuffle=False  # Ensure dataset is not shuffled\n",
    ")\n",
    "\n",
    "# Evaluate the model on the testing dataset\n",
    "test_loss, test_accuracy = loaded_model.evaluate(test_ds)\n",
    "\n",
    "print(f'Test accuracy: {test_accuracy}')\n",
    "\n",
    "# Iterate through the testing dataset and make predictions\n",
    "# for images, labels in test_ds:\n",
    "#     predictions = model.predict(images)\n",
    "#     predicted_classes = np.argmax(predictions, axis=1)\n",
    "    \n",
    "    # # Display images and their predictions\n",
    "    # for i in range(len(images)):\n",
    "    #     image_array = images[i].numpy().astype(np.uint8)\n",
    "    #     plt.imshow(image_array)\n",
    "    #     plt.title(f\"True Label: {labels[i]}, Predicted Label: {predicted_classes[i]}\")\n",
    "    #     plt.show()\n",
    "    #     #print(f\"True Label: {labels[i]}, Predicted Label: {predicted_classes[i]}\")\n",
    " \n",
    " "
   ]
  },
  {
   "cell_type": "code",
   "execution_count": 26,
   "metadata": {},
   "outputs": [
    {
     "name": "stdout",
     "output_type": "stream",
     "text": [
      "1/1 [==============================] - 0s 30ms/step\n",
      "Predicted class: [3]\n"
     ]
    }
   ],
   "source": [
    "###########other tests to show accuracy-used pictures from the web (see cards.csv for accurate labels)\n",
    "\n",
    "\n",
    "from PIL import Image\n",
    "import tensorflow as tf\n",
    "\n",
    "# File path to the image\n",
    "image_path = \"cards_dataset\\\\other_tests\\\\Img1.png\"\n",
    "\n",
    "# Load and preprocess the image using TensorFlow\n",
    "image = tf.keras.preprocessing.image.load_img(image_path, target_size=(img_height, img_width))\n",
    "image_array = tf.keras.preprocessing.image.img_to_array(image)\n",
    "image_array = tf.expand_dims(image_array, axis=0)  # Add batch dimension\n",
    "\n",
    "# Make prediction\n",
    "predictions = model.predict(image_array)\n",
    "predicted_class = np.argmax(predictions, axis=1)\n",
    "print(\"Predicted class:\", predicted_class)\n",
    "\n",
    "# plt.imshow(image)\n",
    "        \n"
   ]
  },
  {
   "cell_type": "code",
   "execution_count": 20,
   "metadata": {},
   "outputs": [
    {
     "name": "stderr",
     "output_type": "stream",
     "text": [
      "WARNING:absl:Found untraced functions such as _jit_compiled_convolution_op, _jit_compiled_convolution_op while saving (showing 2 of 2). These functions will not be directly callable after loading.\n"
     ]
    },
    {
     "name": "stdout",
     "output_type": "stream",
     "text": [
      "INFO:tensorflow:Assets written to: C:\\Users\\jason\\AppData\\Local\\Temp\\tmp6luksk6h\\assets\n"
     ]
    },
    {
     "name": "stderr",
     "output_type": "stream",
     "text": [
      "INFO:tensorflow:Assets written to: C:\\Users\\jason\\AppData\\Local\\Temp\\tmp6luksk6h\\assets\n"
     ]
    }
   ],
   "source": [
    "converter = tf.lite.TFLiteConverter.from_keras_model(loaded_model)\n",
    "tflite_model = converter.convert()\n",
    "\n",
    "with open(\"my_model.tflite\", \"wb\") as f:\n",
    "    f.write(tflite_model)"
   ]
  },
  {
   "cell_type": "code",
   "execution_count": 51,
   "metadata": {},
   "outputs": [
    {
     "name": "stdout",
     "output_type": "stream",
     "text": [
      "Found 265 files belonging to 53 classes.\n",
      "Test accuracy: 0.7283018867924528\n"
     ]
    }
   ],
   "source": [
    "\n",
    "# ###########showing full tflite model on testing dataset##################\n",
    "\n",
    "import tensorflow as tf\n",
    "import numpy as np\n",
    "import matplotlib.pyplot as plt\n",
    "\n",
    "# Load the TensorFlow Lite model\n",
    "interpreter = tf.lite.Interpreter(model_path=\"my_model.tflite\")\n",
    "interpreter.allocate_tensors()\n",
    "\n",
    "# Get input and output details\n",
    "input_details = interpreter.get_input_details()\n",
    "output_details = interpreter.get_output_details()\n",
    "\n",
    "# Define the path to your testing dataset\n",
    "testing_dir = \"cards_dataset/test\"\n",
    "\n",
    "# Load testing dataset\n",
    "test_ds = tf.keras.preprocessing.image_dataset_from_directory(\n",
    "    testing_dir,\n",
    "    image_size=(img_height, img_width),\n",
    "    batch_size=batch_size,\n",
    "    label_mode='int',\n",
    "    shuffle=False\n",
    ")\n",
    "\n",
    "# Initialize variables for evaluation\n",
    "num_correct = 0\n",
    "num_total = 0\n",
    "\n",
    "# Iterate through the testing dataset and make predictions\n",
    "for images, labels in test_ds:\n",
    "    for image, label in zip(images, labels):\n",
    "        # Preprocess the image (if necessary)\n",
    "        # You can skip preprocessing if the images are already in the correct format\n",
    "\n",
    "        # Set the input tensor\n",
    "        input_tensor_index = input_details[0]['index']\n",
    "        input_shape = input_details[0]['shape']\n",
    "        interpreter.set_tensor(input_tensor_index, image.numpy().reshape(input_shape).astype(np.float32))\n",
    "\n",
    "        # Run inference\n",
    "        interpreter.invoke()\n",
    "\n",
    "        # Get the output\n",
    "        output_tensor_index = output_details[0]['index']\n",
    "        output_data = interpreter.get_tensor(output_tensor_index)\n",
    "        predicted_class = np.argmax(output_data)\n",
    "\n",
    "        # Compare predicted class with true label\n",
    "        if predicted_class == label:\n",
    "            num_correct += 1\n",
    "        num_total += 1\n",
    "\n",
    "        # Display the image with true label and predicted label\n",
    "        # plt.imshow(image.numpy().astype(np.uint8))\n",
    "        # plt.title(f\"True Label: {label}, Predicted Label: {predicted_class}\")\n",
    "        # plt.show()\n",
    "\n",
    "# Calculate accuracy\n",
    "accuracy = num_correct / num_total\n",
    "print(\"Test accuracy:\", accuracy)\n",
    "\n"
   ]
  },
  {
   "cell_type": "code",
   "execution_count": 70,
   "metadata": {},
   "outputs": [
    {
     "name": "stdout",
     "output_type": "stream",
     "text": [
      "Predicted class: 3\n"
     ]
    }
   ],
   "source": [
    "# ##########testing indiv cards in tflite####################\n",
    "\n",
    "\n",
    "import cv2\n",
    "# Load the TensorFlow Lite model\n",
    "\n",
    "\n",
    "interpreter = tf.lite.Interpreter(model_path=\"my_model.tflite\")\n",
    "interpreter.allocate_tensors()\n",
    "\n",
    "# Get input and output details\n",
    "input_details = interpreter.get_input_details()\n",
    "output_details = interpreter.get_output_details()\n",
    "\n",
    "# Define the path to the image you want to predict\n",
    "image_path = \"cards_dataset\\\\other_tests\\\\Img1.png\"\n",
    "\n",
    "# Load and preprocess the image using TensorFlow\n",
    "# image = tf.keras.preprocessing.image.load_img(image_path, target_size=(img_height, img_width))\n",
    "# image_array = tf.keras.preprocessing.image.img_to_array(image)\n",
    "# image_array = np.expand_dims(image_array, axis=0)  # Add batch dimension\n",
    "\n",
    "img_height = 224  # Define your target height\n",
    "img_width = 224   # Define your target width\n",
    "\n",
    "# Load the image using OpenCV\n",
    "image = cv2.imread(image_path)\n",
    "\n",
    "# Resize the image\n",
    "image = cv2.resize(image, (img_width, img_height))\n",
    "\n",
    "# Convert the image to a NumPy array\n",
    "image_array = np.array(image)\n",
    "\n",
    "# Expand dimensions to create a batch dimension\n",
    "image_array = np.expand_dims(image_array, axis=0)\n",
    "\n",
    "# Set the input tensor\n",
    "input_tensor_index = input_details[0]['index']\n",
    "input_shape = input_details[0]['shape']\n",
    "interpreter.set_tensor(input_tensor_index, image_array.astype(np.float32))\n",
    "\n",
    "# Run inference\n",
    "interpreter.invoke()\n",
    "\n",
    "# Get the output\n",
    "output_tensor_index = output_details[0]['index']\n",
    "output_data = interpreter.get_tensor(output_tensor_index)\n",
    "predicted_class = np.argmax(output_data)\n",
    "\n",
    "print(\"Predicted class:\", predicted_class)\n",
    "\n",
    "\n",
    "\n",
    "#####RPI dependencies/packages slightly different, so use the following code when on rpi(above code ensures tflite model works locally):\n",
    "# import cv2\n",
    "# import numpy as np\n",
    "# import tflite_runtime.interpreter as tflite\n",
    "\n",
    "# # Load the TensorFlow Lite model\n",
    "# interpreter = tflite.Interpreter(model_path=\"my_model.tflite\")\n",
    "# interpreter.allocate_tensors()\n",
    "\n",
    "# # Get input and output details\n",
    "# input_details = interpreter.get_input_details()\n",
    "# output_details = interpreter.get_output_details()\n",
    "\n",
    "# # Define the path to the image you want to predict\n",
    "# image_path = \"cards_dataset/other_tests/Img1.png\"\n",
    "\n",
    "# img_height = 224  # Define your target height\n",
    "# img_width = 224   # Define your target width\n",
    "\n",
    "# # Load the image using OpenCV\n",
    "# image = cv2.imread(image_path)\n",
    "\n",
    "# # Resize the image\n",
    "# image = cv2.resize(image, (img_width, img_height))\n",
    "\n",
    "# # Convert the image to a NumPy array\n",
    "# image_array = np.array(image)\n",
    "\n",
    "# # Expand dimensions to create a batch dimension\n",
    "# image_array = np.expand_dims(image_array, axis=0)\n",
    "\n",
    "# # Set the input tensor\n",
    "# input_tensor_index = input_details[0]['index']\n",
    "# input_shape = input_details[0]['shape']\n",
    "# interpreter.set_tensor(input_tensor_index, image_array.astype(np.float32))\n",
    "\n",
    "# # Run inference\n",
    "# interpreter.invoke()\n",
    "\n",
    "# # Get the output\n",
    "# output_tensor_index = output_details[0]['index']\n",
    "# output_data = interpreter.get_tensor(output_tensor_index)\n",
    "# predicted_class = np.argmax(output_data)\n",
    "\n",
    "# print(\"Predicted class:\", predicted_class)\n",
    "\n",
    "\n"
   ]
  },
  {
   "cell_type": "code",
   "execution_count": null,
   "metadata": {},
   "outputs": [],
   "source": []
  },
  {
   "cell_type": "code",
   "execution_count": null,
   "metadata": {},
   "outputs": [],
   "source": []
  }
 ],
 "metadata": {
  "kernelspec": {
   "display_name": "tensorflow",
   "language": "python",
   "name": "python3"
  },
  "language_info": {
   "codemirror_mode": {
    "name": "ipython",
    "version": 3
   },
   "file_extension": ".py",
   "mimetype": "text/x-python",
   "name": "python",
   "nbconvert_exporter": "python",
   "pygments_lexer": "ipython3",
   "version": "3.8.18"
  }
 },
 "nbformat": 4,
 "nbformat_minor": 2
}
