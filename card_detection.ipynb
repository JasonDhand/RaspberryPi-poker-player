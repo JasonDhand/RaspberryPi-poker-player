{
 "cells": [
  {
   "cell_type": "code",
   "execution_count": 21,
   "metadata": {},
   "outputs": [],
   "source": [
    "\n",
    "import tensorflow as tf\n",
    "from keras import layers, models\n",
    "\n",
    "# Path to your dataset\n",
    "\n",
    "training_dataset_path = \"cards_dataset\\\\train\"\n",
    "validation_dataset_path = \"cards_dataset\\\\valid\""
   ]
  },
  {
   "cell_type": "code",
   "execution_count": 22,
   "metadata": {},
   "outputs": [
    {
     "name": "stdout",
     "output_type": "stream",
     "text": [
      "Found 7624 files belonging to 53 classes.\n",
      "Found 265 files belonging to 53 classes.\n"
     ]
    }
   ],
   "source": [
    "batch_size = 32\n",
    "img_height = 224\n",
    "img_width = 224\n",
    "num_classes = 53  # Number of classes in your dataset\n",
    "\n",
    "# Load training dataset with integer-encoded labels\n",
    "train_ds = tf.keras.preprocessing.image_dataset_from_directory(\n",
    "    training_dataset_path,\n",
    "    image_size=(img_height, img_width),\n",
    "    batch_size=batch_size,\n",
    "    label_mode='int'  # Use integer-encoded labels\n",
    ")\n",
    "\n",
    "# Load validation dataset with integer-encoded labels\n",
    "val_ds = tf.keras.preprocessing.image_dataset_from_directory(\n",
    "    validation_dataset_path,\n",
    "    image_size=(img_height, img_width),\n",
    "    batch_size=batch_size,\n",
    "    label_mode='int'  # Use integer-encoded labels\n",
    ")\n",
    "\n",
    "\n",
    "model = tf.keras.Sequential([\n",
    "    tf.keras.layers.Conv2D(input_shape=(224, 224, 3), kernel_size=(5, 5), strides=(1, 1), padding='same', activation='relu', filters=4),\n",
    "    tf.keras.layers.MaxPooling2D(pool_size=(2, 2), strides=(2, 2)),\n",
    "    tf.keras.layers.Conv2D(filters=8, kernel_size=(3, 3), strides=(1, 1), padding='valid', activation='relu'),\n",
    "    tf.keras.layers.MaxPooling2D(pool_size=(2, 2), strides=(2, 2)),\n",
    "    tf.keras.layers.Flatten(),\n",
    "    tf.keras.layers.Dense(128, activation='relu'),\n",
    "    tf.keras.layers.Dense(64, activation='relu'),\n",
    "    tf.keras.layers.Dense(53, activation='softmax')  # 53 output neurons for the 53 different playing cards\n",
    "])\n",
    "\n",
    "\n",
    "\n"
   ]
  },
  {
   "cell_type": "code",
   "execution_count": 23,
   "metadata": {},
   "outputs": [],
   "source": [
    "num_epochs = 10\n",
    "\n",
    "\n",
    "model.compile(optimizer='adam',\n",
    "              loss='sparse_categorical_crossentropy',  # Use sparse categorical crossentropy loss\n",
    "              metrics=['accuracy'])\n",
    "\n",
    "\n"
   ]
  },
  {
   "cell_type": "code",
   "execution_count": 24,
   "metadata": {},
   "outputs": [
    {
     "name": "stdout",
     "output_type": "stream",
     "text": [
      "Epoch 1/10\n"
     ]
    },
    {
     "name": "stdout",
     "output_type": "stream",
     "text": [
      "239/239 [==============================] - 100s 413ms/step - loss: 53.5935 - accuracy: 0.0525 - val_loss: 3.6815 - val_accuracy: 0.0981\n",
      "Epoch 2/10\n",
      "239/239 [==============================] - 73s 305ms/step - loss: 3.3195 - accuracy: 0.1536 - val_loss: 3.4402 - val_accuracy: 0.1849\n",
      "Epoch 3/10\n",
      "239/239 [==============================] - 67s 281ms/step - loss: 2.7132 - accuracy: 0.2886 - val_loss: 3.2051 - val_accuracy: 0.2642\n",
      "Epoch 4/10\n",
      "239/239 [==============================] - 67s 280ms/step - loss: 2.1644 - accuracy: 0.4263 - val_loss: 3.2738 - val_accuracy: 0.3170\n",
      "Epoch 5/10\n",
      "239/239 [==============================] - 68s 284ms/step - loss: 1.6786 - accuracy: 0.5505 - val_loss: 3.4302 - val_accuracy: 0.3660\n",
      "Epoch 6/10\n",
      "239/239 [==============================] - 69s 287ms/step - loss: 1.3471 - accuracy: 0.6413 - val_loss: 3.6922 - val_accuracy: 0.3660\n",
      "Epoch 7/10\n",
      "239/239 [==============================] - 116s 485ms/step - loss: 1.0439 - accuracy: 0.7159 - val_loss: 3.9171 - val_accuracy: 0.4453\n",
      "Epoch 8/10\n",
      "239/239 [==============================] - 88s 368ms/step - loss: 0.8189 - accuracy: 0.7782 - val_loss: 3.9666 - val_accuracy: 0.4415\n",
      "Epoch 9/10\n",
      "239/239 [==============================] - 71s 295ms/step - loss: 0.7608 - accuracy: 0.7972 - val_loss: 4.6918 - val_accuracy: 0.4264\n",
      "Epoch 10/10\n",
      "239/239 [==============================] - 72s 302ms/step - loss: 0.6144 - accuracy: 0.8388 - val_loss: 5.4494 - val_accuracy: 0.4226\n"
     ]
    }
   ],
   "source": [
    "\n",
    "\n",
    "# Train the model\n",
    "history = model.fit(\n",
    "    train_ds,\n",
    "    validation_data=val_ds,\n",
    "    epochs=num_epochs\n",
    ")"
   ]
  },
  {
   "cell_type": "code",
   "execution_count": 25,
   "metadata": {},
   "outputs": [
    {
     "name": "stdout",
     "output_type": "stream",
     "text": [
      "Epoch 1/10\n",
      "239/239 [==============================] - 101s 421ms/step - loss: 0.5155 - accuracy: 0.8669 - val_loss: 5.4122 - val_accuracy: 0.4226\n",
      "Epoch 2/10\n",
      "239/239 [==============================] - 75s 308ms/step - loss: 0.4229 - accuracy: 0.8893 - val_loss: 5.4032 - val_accuracy: 0.4226\n",
      "Epoch 3/10\n",
      "239/239 [==============================] - 69s 290ms/step - loss: 0.4309 - accuracy: 0.8881 - val_loss: 5.6962 - val_accuracy: 0.4491\n",
      "Epoch 4/10\n",
      "239/239 [==============================] - 70s 293ms/step - loss: 0.3673 - accuracy: 0.9095 - val_loss: 6.3130 - val_accuracy: 0.4189\n",
      "Epoch 5/10\n",
      "239/239 [==============================] - 73s 307ms/step - loss: 0.3318 - accuracy: 0.9171 - val_loss: 7.5371 - val_accuracy: 0.4038\n",
      "Epoch 6/10\n",
      "239/239 [==============================] - 69s 290ms/step - loss: 0.3777 - accuracy: 0.9035 - val_loss: 6.0179 - val_accuracy: 0.4453\n",
      "Epoch 7/10\n",
      "239/239 [==============================] - 70s 292ms/step - loss: 0.4113 - accuracy: 0.9037 - val_loss: 6.5099 - val_accuracy: 0.4566\n",
      "Epoch 8/10\n",
      "239/239 [==============================] - 110s 461ms/step - loss: 0.2990 - accuracy: 0.9290 - val_loss: 6.4672 - val_accuracy: 0.5057\n",
      "Epoch 9/10\n",
      "239/239 [==============================] - 71s 297ms/step - loss: 0.2895 - accuracy: 0.9304 - val_loss: 7.4668 - val_accuracy: 0.4491\n",
      "Epoch 10/10\n",
      "239/239 [==============================] - 70s 292ms/step - loss: 0.2702 - accuracy: 0.9391 - val_loss: 7.8528 - val_accuracy: 0.4491\n"
     ]
    }
   ],
   "source": [
    "additional_epochs = 10\n",
    "\n",
    "additional_history = model.fit(\n",
    "    train_ds,\n",
    "    validation_data=val_ds,\n",
    "    epochs=additional_epochs\n",
    ")"
   ]
  },
  {
   "cell_type": "code",
   "execution_count": null,
   "metadata": {},
   "outputs": [],
   "source": [
    "# Load testing dataset\n",
    "testing_dataset_path = \"cards_dataset\\\\test\"\n",
    "test_ds = tf.keras.preprocessing.image_dataset_from_directory(\n",
    "    testing_dataset_path,\n",
    "    image_size=(img_height, img_width),\n",
    "    batch_size=batch_size,\n",
    "    label_mode='int'  # Assuming integer-encoded labels for testing dataset\n",
    ")\n",
    "\n",
    "# Evaluate the model on the testing dataset\n",
    "test_loss, test_accuracy = model.evaluate(test_ds)\n",
    "\n",
    "print(f'Test accuracy: {test_accuracy}')\n"
   ]
  }
 ],
 "metadata": {
  "kernelspec": {
   "display_name": "tensorflow",
   "language": "python",
   "name": "python3"
  },
  "language_info": {
   "codemirror_mode": {
    "name": "ipython",
    "version": 3
   },
   "file_extension": ".py",
   "mimetype": "text/x-python",
   "name": "python",
   "nbconvert_exporter": "python",
   "pygments_lexer": "ipython3",
   "version": "3.8.18"
  }
 },
 "nbformat": 4,
 "nbformat_minor": 2
}
