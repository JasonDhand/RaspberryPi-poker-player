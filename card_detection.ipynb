{
 "cells": [
  {
   "cell_type": "code",
   "execution_count": 33,
   "metadata": {},
   "outputs": [],
   "source": [
    "\n",
    "import tensorflow as tf\n",
    "from keras import layers, models\n",
    "\n",
    "# Path to your dataset\n",
    "\n",
    "training_dataset_path = \"cards_dataset\\\\train\"\n",
    "validation_dataset_path = \"cards_dataset\\\\valid\"\n"
   ]
  },
  {
   "cell_type": "code",
   "execution_count": 34,
   "metadata": {},
   "outputs": [
    {
     "name": "stdout",
     "output_type": "stream",
     "text": [
      "No GPU(s) detected.\n"
     ]
    }
   ],
   "source": [
    "# gpus = tf.config.list_physical_devices('GPU')\n",
    "# if gpus:\n",
    "#     # GPU(s) available, print information about each GPU\n",
    "#     for gpu in gpus:\n",
    "#         print(\"Name:\", gpu.name)\n",
    "#         print(\"Device type:\", gpu.device_type)\n",
    "# else:\n",
    "#     print(\"No GPU(s) detected.\")"
   ]
  },
  {
   "cell_type": "code",
   "execution_count": 28,
   "metadata": {},
   "outputs": [
    {
     "name": "stdout",
     "output_type": "stream",
     "text": [
      "Found 7624 files belonging to 53 classes.\n",
      "Found 265 files belonging to 53 classes.\n"
     ]
    }
   ],
   "source": [
    "batch_size = 32\n",
    "img_height = 224\n",
    "img_width = 224\n",
    "num_classes = 53  # Number of classes in your dataset\n",
    "\n",
    "# Load training dataset with integer-encoded labels\n",
    "train_ds = tf.keras.preprocessing.image_dataset_from_directory(\n",
    "    training_dataset_path,\n",
    "    image_size=(img_height, img_width),\n",
    "    batch_size=batch_size,\n",
    "    label_mode='int'  # Use integer-encoded labels\n",
    ")\n",
    "\n",
    "# Load validation dataset with integer-encoded labels\n",
    "val_ds = tf.keras.preprocessing.image_dataset_from_directory(\n",
    "    validation_dataset_path,\n",
    "    image_size=(img_height, img_width),\n",
    "    batch_size=batch_size,\n",
    "    label_mode='int'  # Use integer-encoded labels\n",
    ")\n",
    "\n",
    "model = tf.keras.Sequential([\n",
    "    tf.keras.layers.Conv2D(input_shape=(224, 224, 3), kernel_size=(5, 5), strides=(1, 1), padding='same', activation='relu', filters=4),\n",
    "    tf.keras.layers.MaxPooling2D(pool_size=(2, 2), strides=(2, 2)),\n",
    "    tf.keras.layers.Conv2D(filters=8, kernel_size=(3, 3), strides=(1, 1), padding='valid', activation='relu'),\n",
    "    tf.keras.layers.MaxPooling2D(pool_size=(2, 2), strides=(2, 2)),\n",
    "    tf.keras.layers.Flatten(),\n",
    "    tf.keras.layers.Dense(128),\n",
    "    tf.keras.layers.BatchNormalization(),  # Add batch normalization layer\n",
    "    tf.keras.layers.Activation('relu'),    # Add activation after batch normalization\n",
    "    tf.keras.layers.Dropout(0.5),          # Add dropout layer with dropout rate of 0.5\n",
    "    tf.keras.layers.Dense(64),\n",
    "    tf.keras.layers.BatchNormalization(),  # Add batch normalization layer\n",
    "    tf.keras.layers.Activation('relu'),    # Add activation after batch normalization\n",
    "    tf.keras.layers.Dropout(0.5),          # Add dropout layer with dropout rate of 0.5\n",
    "    tf.keras.layers.Dense(53, activation='softmax')  # 53 output neurons for the 53 different playing cards\n",
    "])\n",
    "\n",
    "\n",
    "\n"
   ]
  },
  {
   "cell_type": "code",
   "execution_count": 29,
   "metadata": {},
   "outputs": [],
   "source": [
    "num_epochs = 10\n",
    "\n",
    "\n",
    "model.compile(optimizer='adam',\n",
    "              loss='sparse_categorical_crossentropy',  # Use sparse categorical crossentropy loss\n",
    "              metrics=['accuracy'])\n",
    "\n",
    "\n"
   ]
  },
  {
   "cell_type": "code",
   "execution_count": 35,
   "metadata": {},
   "outputs": [
    {
     "name": "stdout",
     "output_type": "stream",
     "text": [
      "Epoch 1/10\n"
     ]
    },
    {
     "name": "stdout",
     "output_type": "stream",
     "text": [
      "239/239 [==============================] - 70s 289ms/step - loss: 1.8166 - accuracy: 0.4684 - val_loss: 1.2479 - val_accuracy: 0.6755\n",
      "Epoch 2/10\n",
      "239/239 [==============================] - 89s 372ms/step - loss: 1.6718 - accuracy: 0.5028 - val_loss: 1.2101 - val_accuracy: 0.7019\n",
      "Epoch 3/10\n",
      "239/239 [==============================] - 119s 498ms/step - loss: 1.4874 - accuracy: 0.5523 - val_loss: 1.0759 - val_accuracy: 0.7321\n",
      "Epoch 4/10\n",
      "239/239 [==============================] - 115s 480ms/step - loss: 1.3707 - accuracy: 0.5888 - val_loss: 1.0260 - val_accuracy: 0.7358\n",
      "Epoch 5/10\n",
      "239/239 [==============================] - 134s 562ms/step - loss: 1.2682 - accuracy: 0.6150 - val_loss: 1.0199 - val_accuracy: 0.7660\n",
      "Epoch 6/10\n",
      "239/239 [==============================] - 190s 793ms/step - loss: 1.1681 - accuracy: 0.6406 - val_loss: 0.9904 - val_accuracy: 0.7509\n",
      "Epoch 7/10\n",
      "239/239 [==============================] - 69s 290ms/step - loss: 1.1061 - accuracy: 0.6611 - val_loss: 0.9713 - val_accuracy: 0.7509\n",
      "Epoch 8/10\n",
      "239/239 [==============================] - 69s 290ms/step - loss: 1.0236 - accuracy: 0.6810 - val_loss: 0.9803 - val_accuracy: 0.7585\n",
      "Epoch 9/10\n",
      "239/239 [==============================] - 69s 286ms/step - loss: 0.9604 - accuracy: 0.7078 - val_loss: 0.9933 - val_accuracy: 0.7547\n",
      "Epoch 10/10\n",
      "239/239 [==============================] - 90s 375ms/step - loss: 0.8941 - accuracy: 0.7235 - val_loss: 0.9888 - val_accuracy: 0.7623\n"
     ]
    }
   ],
   "source": [
    "\n",
    "\n",
    "# Train the model\n",
    "history = model.fit(\n",
    "    train_ds,\n",
    "    validation_data=val_ds,\n",
    "    epochs=num_epochs\n",
    ")"
   ]
  },
  {
   "cell_type": "code",
   "execution_count": 36,
   "metadata": {},
   "outputs": [
    {
     "name": "stdout",
     "output_type": "stream",
     "text": [
      "Epoch 1/10\n"
     ]
    },
    {
     "name": "stdout",
     "output_type": "stream",
     "text": [
      "239/239 [==============================] - 102s 429ms/step - loss: 0.8532 - accuracy: 0.7339 - val_loss: 0.9616 - val_accuracy: 0.7660\n",
      "Epoch 2/10\n",
      "239/239 [==============================] - 70s 292ms/step - loss: 0.7820 - accuracy: 0.7559 - val_loss: 0.9874 - val_accuracy: 0.7472\n",
      "Epoch 3/10\n",
      "239/239 [==============================] - 69s 289ms/step - loss: 0.7872 - accuracy: 0.7533 - val_loss: 1.0007 - val_accuracy: 0.7509\n",
      "Epoch 4/10\n",
      "239/239 [==============================] - 70s 294ms/step - loss: 0.7348 - accuracy: 0.7794 - val_loss: 0.9825 - val_accuracy: 0.7660\n",
      "Epoch 5/10\n",
      "239/239 [==============================] - 76s 318ms/step - loss: 0.6932 - accuracy: 0.7811 - val_loss: 0.9855 - val_accuracy: 0.7623\n",
      "Epoch 6/10\n",
      "239/239 [==============================] - 78s 325ms/step - loss: 0.6803 - accuracy: 0.7916 - val_loss: 0.9369 - val_accuracy: 0.7736\n",
      "Epoch 7/10\n",
      "239/239 [==============================] - 73s 305ms/step - loss: 0.6756 - accuracy: 0.7899 - val_loss: 0.9819 - val_accuracy: 0.7623\n",
      "Epoch 8/10\n",
      "239/239 [==============================] - 72s 300ms/step - loss: 0.6511 - accuracy: 0.7971 - val_loss: 0.9354 - val_accuracy: 0.7925\n",
      "Epoch 9/10\n",
      "239/239 [==============================] - 73s 304ms/step - loss: 0.6276 - accuracy: 0.8031 - val_loss: 0.9629 - val_accuracy: 0.7925\n",
      "Epoch 10/10\n",
      "239/239 [==============================] - 71s 298ms/step - loss: 0.6224 - accuracy: 0.8060 - val_loss: 1.0035 - val_accuracy: 0.7925\n"
     ]
    }
   ],
   "source": [
    "additional_epochs = 10\n",
    "\n",
    "additional_history = model.fit(\n",
    "    train_ds,\n",
    "    validation_data=val_ds,\n",
    "    epochs=additional_epochs\n",
    ")"
   ]
  },
  {
   "cell_type": "code",
   "execution_count": 37,
   "metadata": {},
   "outputs": [
    {
     "name": "stdout",
     "output_type": "stream",
     "text": [
      "Found 265 files belonging to 53 classes.\n",
      "9/9 [==============================] - 1s 51ms/step - loss: 0.7761 - accuracy: 0.7849\n",
      "Test accuracy: 0.7849056720733643\n"
     ]
    }
   ],
   "source": [
    "# Load testing dataset\n",
    "testing_dataset_path = \"cards_dataset\\\\test\"\n",
    "test_ds = tf.keras.preprocessing.image_dataset_from_directory(\n",
    "    testing_dataset_path,\n",
    "    image_size=(img_height, img_width),\n",
    "    batch_size=batch_size,\n",
    "    label_mode='int'  # Assuming integer-encoded labels for testing dataset\n",
    ")\n",
    "\n",
    "# Evaluate the model on the testing dataset\n",
    "test_loss, test_accuracy = model.evaluate(test_ds)\n",
    "\n",
    "print(f'Test accuracy: {test_accuracy}')\n"
   ]
  },
  {
   "cell_type": "code",
   "execution_count": null,
   "metadata": {},
   "outputs": [],
   "source": []
  }
 ],
 "metadata": {
  "kernelspec": {
   "display_name": "tensorflow",
   "language": "python",
   "name": "python3"
  },
  "language_info": {
   "codemirror_mode": {
    "name": "ipython",
    "version": 3
   },
   "file_extension": ".py",
   "mimetype": "text/x-python",
   "name": "python",
   "nbconvert_exporter": "python",
   "pygments_lexer": "ipython3",
   "version": "3.8.18"
  }
 },
 "nbformat": 4,
 "nbformat_minor": 2
}
